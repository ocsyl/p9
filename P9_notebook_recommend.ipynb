{
 "cells": [
  {
   "cell_type": "code",
   "execution_count": 196,
   "id": "fa7f062e",
   "metadata": {},
   "outputs": [],
   "source": [
    "import pickle\n",
    "import numpy as np\n",
    "import pandas as pd\n",
    "import matplotlib.pyplot as plt\n",
    "import os\n",
    "from datetime import datetime\n",
    "import warnings\n",
    "warnings.filterwarnings('ignore')\n"
   ]
  },
  {
   "cell_type": "code",
   "execution_count": 2,
   "id": "a2ef45b0",
   "metadata": {},
   "outputs": [],
   "source": [
    "data_path = './news-portal-user-interactions-by-globocom/'"
   ]
  },
  {
   "cell_type": "code",
   "execution_count": 3,
   "id": "cd71cb96",
   "metadata": {},
   "outputs": [
    {
     "data": {
      "text/html": [
       "<div>\n",
       "<style scoped>\n",
       "    .dataframe tbody tr th:only-of-type {\n",
       "        vertical-align: middle;\n",
       "    }\n",
       "\n",
       "    .dataframe tbody tr th {\n",
       "        vertical-align: top;\n",
       "    }\n",
       "\n",
       "    .dataframe thead th {\n",
       "        text-align: right;\n",
       "    }\n",
       "</style>\n",
       "<table border=\"1\" class=\"dataframe\">\n",
       "  <thead>\n",
       "    <tr style=\"text-align: right;\">\n",
       "      <th></th>\n",
       "      <th>article_id</th>\n",
       "      <th>category_id</th>\n",
       "      <th>created_at_ts</th>\n",
       "      <th>publisher_id</th>\n",
       "      <th>words_count</th>\n",
       "    </tr>\n",
       "  </thead>\n",
       "  <tbody>\n",
       "    <tr>\n",
       "      <th>0</th>\n",
       "      <td>0</td>\n",
       "      <td>0</td>\n",
       "      <td>1513144419000</td>\n",
       "      <td>0</td>\n",
       "      <td>168</td>\n",
       "    </tr>\n",
       "    <tr>\n",
       "      <th>1</th>\n",
       "      <td>1</td>\n",
       "      <td>1</td>\n",
       "      <td>1405341936000</td>\n",
       "      <td>0</td>\n",
       "      <td>189</td>\n",
       "    </tr>\n",
       "    <tr>\n",
       "      <th>2</th>\n",
       "      <td>2</td>\n",
       "      <td>1</td>\n",
       "      <td>1408667706000</td>\n",
       "      <td>0</td>\n",
       "      <td>250</td>\n",
       "    </tr>\n",
       "    <tr>\n",
       "      <th>3</th>\n",
       "      <td>3</td>\n",
       "      <td>1</td>\n",
       "      <td>1408468313000</td>\n",
       "      <td>0</td>\n",
       "      <td>230</td>\n",
       "    </tr>\n",
       "    <tr>\n",
       "      <th>4</th>\n",
       "      <td>4</td>\n",
       "      <td>1</td>\n",
       "      <td>1407071171000</td>\n",
       "      <td>0</td>\n",
       "      <td>162</td>\n",
       "    </tr>\n",
       "    <tr>\n",
       "      <th>...</th>\n",
       "      <td>...</td>\n",
       "      <td>...</td>\n",
       "      <td>...</td>\n",
       "      <td>...</td>\n",
       "      <td>...</td>\n",
       "    </tr>\n",
       "    <tr>\n",
       "      <th>364042</th>\n",
       "      <td>364042</td>\n",
       "      <td>460</td>\n",
       "      <td>1434034118000</td>\n",
       "      <td>0</td>\n",
       "      <td>144</td>\n",
       "    </tr>\n",
       "    <tr>\n",
       "      <th>364043</th>\n",
       "      <td>364043</td>\n",
       "      <td>460</td>\n",
       "      <td>1434148472000</td>\n",
       "      <td>0</td>\n",
       "      <td>463</td>\n",
       "    </tr>\n",
       "    <tr>\n",
       "      <th>364044</th>\n",
       "      <td>364044</td>\n",
       "      <td>460</td>\n",
       "      <td>1457974279000</td>\n",
       "      <td>0</td>\n",
       "      <td>177</td>\n",
       "    </tr>\n",
       "    <tr>\n",
       "      <th>364045</th>\n",
       "      <td>364045</td>\n",
       "      <td>460</td>\n",
       "      <td>1515964737000</td>\n",
       "      <td>0</td>\n",
       "      <td>126</td>\n",
       "    </tr>\n",
       "    <tr>\n",
       "      <th>364046</th>\n",
       "      <td>364046</td>\n",
       "      <td>460</td>\n",
       "      <td>1505811330000</td>\n",
       "      <td>0</td>\n",
       "      <td>479</td>\n",
       "    </tr>\n",
       "  </tbody>\n",
       "</table>\n",
       "<p>364047 rows × 5 columns</p>\n",
       "</div>"
      ],
      "text/plain": [
       "        article_id  category_id  created_at_ts  publisher_id  words_count\n",
       "0                0            0  1513144419000             0          168\n",
       "1                1            1  1405341936000             0          189\n",
       "2                2            1  1408667706000             0          250\n",
       "3                3            1  1408468313000             0          230\n",
       "4                4            1  1407071171000             0          162\n",
       "...            ...          ...            ...           ...          ...\n",
       "364042      364042          460  1434034118000             0          144\n",
       "364043      364043          460  1434148472000             0          463\n",
       "364044      364044          460  1457974279000             0          177\n",
       "364045      364045          460  1515964737000             0          126\n",
       "364046      364046          460  1505811330000             0          479\n",
       "\n",
       "[364047 rows x 5 columns]"
      ]
     },
     "execution_count": 3,
     "metadata": {},
     "output_type": "execute_result"
    }
   ],
   "source": [
    "articles_metadata = pd.read_csv(data_path + 'articles_metadata.csv')  \n",
    "articles_metadata"
   ]
  },
  {
   "cell_type": "code",
   "execution_count": 4,
   "id": "dcb780f9",
   "metadata": {},
   "outputs": [],
   "source": [
    "articles_embeddings = pd.read_pickle(data_path + 'articles_embeddings.pickle')"
   ]
  },
  {
   "cell_type": "code",
   "execution_count": 5,
   "id": "ece507ae",
   "metadata": {},
   "outputs": [
    {
     "data": {
      "text/plain": [
       "array([[-0.16118301, -0.95723313, -0.13794445, ..., -0.231686  ,\n",
       "         0.5974159 ,  0.40962312],\n",
       "       [-0.52321565, -0.974058  ,  0.73860806, ...,  0.18282819,\n",
       "         0.39708954, -0.83436364],\n",
       "       [-0.61961854, -0.9729604 , -0.20736018, ..., -0.44758022,\n",
       "         0.8059317 , -0.28528407],\n",
       "       ...,\n",
       "       [-0.25139043, -0.9762427 ,  0.58609664, ..., -0.14372464,\n",
       "         0.06809307, -0.7050104 ],\n",
       "       [ 0.22434181, -0.92328775, -0.38174152, ...,  0.6871319 ,\n",
       "        -0.5315117 ,  0.01072566],\n",
       "       [-0.25713393, -0.9946313 ,  0.9837918 , ...,  0.98387307,\n",
       "        -0.8381829 , -0.1792827 ]], dtype=float32)"
      ]
     },
     "execution_count": 5,
     "metadata": {},
     "output_type": "execute_result"
    }
   ],
   "source": [
    "articles_embeddings"
   ]
  },
  {
   "cell_type": "code",
   "execution_count": 6,
   "id": "b7315a6b",
   "metadata": {},
   "outputs": [
    {
     "data": {
      "text/plain": [
       "(364047, 250)"
      ]
     },
     "execution_count": 6,
     "metadata": {},
     "output_type": "execute_result"
    }
   ],
   "source": [
    "articles_embeddings.shape"
   ]
  },
  {
   "cell_type": "code",
   "execution_count": 7,
   "id": "377796bc",
   "metadata": {},
   "outputs": [],
   "source": [
    "clicks_hour_000 = pd.read_csv(data_path + 'clicks/clicks_hour_000.csv')  "
   ]
  },
  {
   "cell_type": "code",
   "execution_count": 8,
   "id": "07028760",
   "metadata": {},
   "outputs": [
    {
     "data": {
      "text/html": [
       "<div>\n",
       "<style scoped>\n",
       "    .dataframe tbody tr th:only-of-type {\n",
       "        vertical-align: middle;\n",
       "    }\n",
       "\n",
       "    .dataframe tbody tr th {\n",
       "        vertical-align: top;\n",
       "    }\n",
       "\n",
       "    .dataframe thead th {\n",
       "        text-align: right;\n",
       "    }\n",
       "</style>\n",
       "<table border=\"1\" class=\"dataframe\">\n",
       "  <thead>\n",
       "    <tr style=\"text-align: right;\">\n",
       "      <th></th>\n",
       "      <th>user_id</th>\n",
       "      <th>session_id</th>\n",
       "      <th>session_start</th>\n",
       "      <th>session_size</th>\n",
       "      <th>click_article_id</th>\n",
       "      <th>click_timestamp</th>\n",
       "      <th>click_environment</th>\n",
       "      <th>click_deviceGroup</th>\n",
       "      <th>click_os</th>\n",
       "      <th>click_country</th>\n",
       "      <th>click_region</th>\n",
       "      <th>click_referrer_type</th>\n",
       "    </tr>\n",
       "  </thead>\n",
       "  <tbody>\n",
       "    <tr>\n",
       "      <th>0</th>\n",
       "      <td>0</td>\n",
       "      <td>1506825423271737</td>\n",
       "      <td>1506825423000</td>\n",
       "      <td>2</td>\n",
       "      <td>157541</td>\n",
       "      <td>1506826828020</td>\n",
       "      <td>4</td>\n",
       "      <td>3</td>\n",
       "      <td>20</td>\n",
       "      <td>1</td>\n",
       "      <td>20</td>\n",
       "      <td>2</td>\n",
       "    </tr>\n",
       "    <tr>\n",
       "      <th>1</th>\n",
       "      <td>0</td>\n",
       "      <td>1506825423271737</td>\n",
       "      <td>1506825423000</td>\n",
       "      <td>2</td>\n",
       "      <td>68866</td>\n",
       "      <td>1506826858020</td>\n",
       "      <td>4</td>\n",
       "      <td>3</td>\n",
       "      <td>20</td>\n",
       "      <td>1</td>\n",
       "      <td>20</td>\n",
       "      <td>2</td>\n",
       "    </tr>\n",
       "    <tr>\n",
       "      <th>2</th>\n",
       "      <td>1</td>\n",
       "      <td>1506825426267738</td>\n",
       "      <td>1506825426000</td>\n",
       "      <td>2</td>\n",
       "      <td>235840</td>\n",
       "      <td>1506827017951</td>\n",
       "      <td>4</td>\n",
       "      <td>1</td>\n",
       "      <td>17</td>\n",
       "      <td>1</td>\n",
       "      <td>16</td>\n",
       "      <td>2</td>\n",
       "    </tr>\n",
       "    <tr>\n",
       "      <th>3</th>\n",
       "      <td>1</td>\n",
       "      <td>1506825426267738</td>\n",
       "      <td>1506825426000</td>\n",
       "      <td>2</td>\n",
       "      <td>96663</td>\n",
       "      <td>1506827047951</td>\n",
       "      <td>4</td>\n",
       "      <td>1</td>\n",
       "      <td>17</td>\n",
       "      <td>1</td>\n",
       "      <td>16</td>\n",
       "      <td>2</td>\n",
       "    </tr>\n",
       "    <tr>\n",
       "      <th>4</th>\n",
       "      <td>2</td>\n",
       "      <td>1506825435299739</td>\n",
       "      <td>1506825435000</td>\n",
       "      <td>2</td>\n",
       "      <td>119592</td>\n",
       "      <td>1506827090575</td>\n",
       "      <td>4</td>\n",
       "      <td>1</td>\n",
       "      <td>17</td>\n",
       "      <td>1</td>\n",
       "      <td>24</td>\n",
       "      <td>2</td>\n",
       "    </tr>\n",
       "    <tr>\n",
       "      <th>...</th>\n",
       "      <td>...</td>\n",
       "      <td>...</td>\n",
       "      <td>...</td>\n",
       "      <td>...</td>\n",
       "      <td>...</td>\n",
       "      <td>...</td>\n",
       "      <td>...</td>\n",
       "      <td>...</td>\n",
       "      <td>...</td>\n",
       "      <td>...</td>\n",
       "      <td>...</td>\n",
       "      <td>...</td>\n",
       "    </tr>\n",
       "    <tr>\n",
       "      <th>1878</th>\n",
       "      <td>705</td>\n",
       "      <td>1506828968165442</td>\n",
       "      <td>1506828968000</td>\n",
       "      <td>2</td>\n",
       "      <td>119592</td>\n",
       "      <td>1506830912301</td>\n",
       "      <td>4</td>\n",
       "      <td>1</td>\n",
       "      <td>17</td>\n",
       "      <td>1</td>\n",
       "      <td>21</td>\n",
       "      <td>2</td>\n",
       "    </tr>\n",
       "    <tr>\n",
       "      <th>1879</th>\n",
       "      <td>705</td>\n",
       "      <td>1506828968165442</td>\n",
       "      <td>1506828968000</td>\n",
       "      <td>2</td>\n",
       "      <td>284847</td>\n",
       "      <td>1506830942301</td>\n",
       "      <td>4</td>\n",
       "      <td>1</td>\n",
       "      <td>17</td>\n",
       "      <td>1</td>\n",
       "      <td>21</td>\n",
       "      <td>2</td>\n",
       "    </tr>\n",
       "    <tr>\n",
       "      <th>1880</th>\n",
       "      <td>706</td>\n",
       "      <td>1506828979881443</td>\n",
       "      <td>1506828979000</td>\n",
       "      <td>3</td>\n",
       "      <td>108854</td>\n",
       "      <td>1506829027334</td>\n",
       "      <td>4</td>\n",
       "      <td>3</td>\n",
       "      <td>2</td>\n",
       "      <td>1</td>\n",
       "      <td>25</td>\n",
       "      <td>1</td>\n",
       "    </tr>\n",
       "    <tr>\n",
       "      <th>1881</th>\n",
       "      <td>706</td>\n",
       "      <td>1506828979881443</td>\n",
       "      <td>1506828979000</td>\n",
       "      <td>3</td>\n",
       "      <td>96663</td>\n",
       "      <td>1506829095732</td>\n",
       "      <td>4</td>\n",
       "      <td>3</td>\n",
       "      <td>2</td>\n",
       "      <td>1</td>\n",
       "      <td>25</td>\n",
       "      <td>1</td>\n",
       "    </tr>\n",
       "    <tr>\n",
       "      <th>1882</th>\n",
       "      <td>706</td>\n",
       "      <td>1506828979881443</td>\n",
       "      <td>1506828979000</td>\n",
       "      <td>3</td>\n",
       "      <td>68866</td>\n",
       "      <td>1506829125732</td>\n",
       "      <td>4</td>\n",
       "      <td>3</td>\n",
       "      <td>2</td>\n",
       "      <td>1</td>\n",
       "      <td>25</td>\n",
       "      <td>1</td>\n",
       "    </tr>\n",
       "  </tbody>\n",
       "</table>\n",
       "<p>1883 rows × 12 columns</p>\n",
       "</div>"
      ],
      "text/plain": [
       "      user_id        session_id  session_start  session_size  \\\n",
       "0           0  1506825423271737  1506825423000             2   \n",
       "1           0  1506825423271737  1506825423000             2   \n",
       "2           1  1506825426267738  1506825426000             2   \n",
       "3           1  1506825426267738  1506825426000             2   \n",
       "4           2  1506825435299739  1506825435000             2   \n",
       "...       ...               ...            ...           ...   \n",
       "1878      705  1506828968165442  1506828968000             2   \n",
       "1879      705  1506828968165442  1506828968000             2   \n",
       "1880      706  1506828979881443  1506828979000             3   \n",
       "1881      706  1506828979881443  1506828979000             3   \n",
       "1882      706  1506828979881443  1506828979000             3   \n",
       "\n",
       "      click_article_id  click_timestamp  click_environment  click_deviceGroup  \\\n",
       "0               157541    1506826828020                  4                  3   \n",
       "1                68866    1506826858020                  4                  3   \n",
       "2               235840    1506827017951                  4                  1   \n",
       "3                96663    1506827047951                  4                  1   \n",
       "4               119592    1506827090575                  4                  1   \n",
       "...                ...              ...                ...                ...   \n",
       "1878            119592    1506830912301                  4                  1   \n",
       "1879            284847    1506830942301                  4                  1   \n",
       "1880            108854    1506829027334                  4                  3   \n",
       "1881             96663    1506829095732                  4                  3   \n",
       "1882             68866    1506829125732                  4                  3   \n",
       "\n",
       "      click_os  click_country  click_region  click_referrer_type  \n",
       "0           20              1            20                    2  \n",
       "1           20              1            20                    2  \n",
       "2           17              1            16                    2  \n",
       "3           17              1            16                    2  \n",
       "4           17              1            24                    2  \n",
       "...        ...            ...           ...                  ...  \n",
       "1878        17              1            21                    2  \n",
       "1879        17              1            21                    2  \n",
       "1880         2              1            25                    1  \n",
       "1881         2              1            25                    1  \n",
       "1882         2              1            25                    1  \n",
       "\n",
       "[1883 rows x 12 columns]"
      ]
     },
     "execution_count": 8,
     "metadata": {},
     "output_type": "execute_result"
    }
   ],
   "source": [
    "clicks_hour_000"
   ]
  },
  {
   "cell_type": "code",
   "execution_count": 9,
   "id": "a43915fd",
   "metadata": {},
   "outputs": [],
   "source": [
    "# user_id, session_id, session_size, click_article_id\n",
    "\n"
   ]
  },
  {
   "cell_type": "code",
   "execution_count": 10,
   "id": "7d0b77a7",
   "metadata": {},
   "outputs": [],
   "source": [
    "file_click = data_path + 'clicks.csv'\n"
   ]
  },
  {
   "cell_type": "code",
   "execution_count": 11,
   "id": "2c17a7e4",
   "metadata": {},
   "outputs": [],
   "source": [
    "def create_click_file():\n",
    "\n",
    "    clicks_path = []\n",
    "    clicks_dir = data_path + \"clicks\"\n",
    "\n",
    "    clicks_path = clicks_path + sorted(\n",
    "            [\n",
    "                os.path.join(clicks_dir, fname)\n",
    "                for fname in os.listdir(clicks_dir)\n",
    "                if fname.endswith(\".csv\")\n",
    "            ]\n",
    "        )\n",
    "\n",
    "    _li = []\n",
    "\n",
    "    for filename in clicks_path:\n",
    "        df = pd.read_csv(filename, index_col=None, header=0)\n",
    "        _li.append(df)\n",
    "\n",
    "    clicks = pd.concat(_li, axis=0, ignore_index=True)\n",
    "    clicks.to_csv(file_click)"
   ]
  },
  {
   "cell_type": "code",
   "execution_count": 12,
   "id": "8c320e6e",
   "metadata": {},
   "outputs": [],
   "source": [
    "if not os.path.exists(file_click):\n",
    "    create_click_file()\n",
    "    "
   ]
  },
  {
   "cell_type": "code",
   "execution_count": 13,
   "id": "9d43483c",
   "metadata": {},
   "outputs": [],
   "source": [
    "clicks= pd.read_csv(file_click)\n"
   ]
  },
  {
   "cell_type": "code",
   "execution_count": 14,
   "id": "97e5f0f2",
   "metadata": {},
   "outputs": [
    {
     "data": {
      "text/html": [
       "<div>\n",
       "<style scoped>\n",
       "    .dataframe tbody tr th:only-of-type {\n",
       "        vertical-align: middle;\n",
       "    }\n",
       "\n",
       "    .dataframe tbody tr th {\n",
       "        vertical-align: top;\n",
       "    }\n",
       "\n",
       "    .dataframe thead th {\n",
       "        text-align: right;\n",
       "    }\n",
       "</style>\n",
       "<table border=\"1\" class=\"dataframe\">\n",
       "  <thead>\n",
       "    <tr style=\"text-align: right;\">\n",
       "      <th></th>\n",
       "      <th>Unnamed: 0</th>\n",
       "      <th>user_id</th>\n",
       "      <th>session_id</th>\n",
       "      <th>session_start</th>\n",
       "      <th>session_size</th>\n",
       "      <th>click_article_id</th>\n",
       "      <th>click_timestamp</th>\n",
       "      <th>click_environment</th>\n",
       "      <th>click_deviceGroup</th>\n",
       "      <th>click_os</th>\n",
       "      <th>click_country</th>\n",
       "      <th>click_region</th>\n",
       "      <th>click_referrer_type</th>\n",
       "    </tr>\n",
       "  </thead>\n",
       "  <tbody>\n",
       "    <tr>\n",
       "      <th>0</th>\n",
       "      <td>0</td>\n",
       "      <td>0</td>\n",
       "      <td>1506825423271737</td>\n",
       "      <td>1506825423000</td>\n",
       "      <td>2</td>\n",
       "      <td>157541</td>\n",
       "      <td>1506826828020</td>\n",
       "      <td>4</td>\n",
       "      <td>3</td>\n",
       "      <td>20</td>\n",
       "      <td>1</td>\n",
       "      <td>20</td>\n",
       "      <td>2</td>\n",
       "    </tr>\n",
       "    <tr>\n",
       "      <th>1</th>\n",
       "      <td>1</td>\n",
       "      <td>0</td>\n",
       "      <td>1506825423271737</td>\n",
       "      <td>1506825423000</td>\n",
       "      <td>2</td>\n",
       "      <td>68866</td>\n",
       "      <td>1506826858020</td>\n",
       "      <td>4</td>\n",
       "      <td>3</td>\n",
       "      <td>20</td>\n",
       "      <td>1</td>\n",
       "      <td>20</td>\n",
       "      <td>2</td>\n",
       "    </tr>\n",
       "    <tr>\n",
       "      <th>2</th>\n",
       "      <td>2</td>\n",
       "      <td>1</td>\n",
       "      <td>1506825426267738</td>\n",
       "      <td>1506825426000</td>\n",
       "      <td>2</td>\n",
       "      <td>235840</td>\n",
       "      <td>1506827017951</td>\n",
       "      <td>4</td>\n",
       "      <td>1</td>\n",
       "      <td>17</td>\n",
       "      <td>1</td>\n",
       "      <td>16</td>\n",
       "      <td>2</td>\n",
       "    </tr>\n",
       "    <tr>\n",
       "      <th>3</th>\n",
       "      <td>3</td>\n",
       "      <td>1</td>\n",
       "      <td>1506825426267738</td>\n",
       "      <td>1506825426000</td>\n",
       "      <td>2</td>\n",
       "      <td>96663</td>\n",
       "      <td>1506827047951</td>\n",
       "      <td>4</td>\n",
       "      <td>1</td>\n",
       "      <td>17</td>\n",
       "      <td>1</td>\n",
       "      <td>16</td>\n",
       "      <td>2</td>\n",
       "    </tr>\n",
       "    <tr>\n",
       "      <th>4</th>\n",
       "      <td>4</td>\n",
       "      <td>2</td>\n",
       "      <td>1506825435299739</td>\n",
       "      <td>1506825435000</td>\n",
       "      <td>2</td>\n",
       "      <td>119592</td>\n",
       "      <td>1506827090575</td>\n",
       "      <td>4</td>\n",
       "      <td>1</td>\n",
       "      <td>17</td>\n",
       "      <td>1</td>\n",
       "      <td>24</td>\n",
       "      <td>2</td>\n",
       "    </tr>\n",
       "    <tr>\n",
       "      <th>...</th>\n",
       "      <td>...</td>\n",
       "      <td>...</td>\n",
       "      <td>...</td>\n",
       "      <td>...</td>\n",
       "      <td>...</td>\n",
       "      <td>...</td>\n",
       "      <td>...</td>\n",
       "      <td>...</td>\n",
       "      <td>...</td>\n",
       "      <td>...</td>\n",
       "      <td>...</td>\n",
       "      <td>...</td>\n",
       "      <td>...</td>\n",
       "    </tr>\n",
       "    <tr>\n",
       "      <th>2988176</th>\n",
       "      <td>2988176</td>\n",
       "      <td>10051</td>\n",
       "      <td>1508211372158328</td>\n",
       "      <td>1508211372000</td>\n",
       "      <td>2</td>\n",
       "      <td>84911</td>\n",
       "      <td>1508211557302</td>\n",
       "      <td>4</td>\n",
       "      <td>3</td>\n",
       "      <td>2</td>\n",
       "      <td>1</td>\n",
       "      <td>25</td>\n",
       "      <td>1</td>\n",
       "    </tr>\n",
       "    <tr>\n",
       "      <th>2988177</th>\n",
       "      <td>2988177</td>\n",
       "      <td>322896</td>\n",
       "      <td>1508211376302329</td>\n",
       "      <td>1508211376000</td>\n",
       "      <td>2</td>\n",
       "      <td>30760</td>\n",
       "      <td>1508211672520</td>\n",
       "      <td>4</td>\n",
       "      <td>1</td>\n",
       "      <td>17</td>\n",
       "      <td>1</td>\n",
       "      <td>25</td>\n",
       "      <td>2</td>\n",
       "    </tr>\n",
       "    <tr>\n",
       "      <th>2988178</th>\n",
       "      <td>2988178</td>\n",
       "      <td>322896</td>\n",
       "      <td>1508211376302329</td>\n",
       "      <td>1508211376000</td>\n",
       "      <td>2</td>\n",
       "      <td>157507</td>\n",
       "      <td>1508211702520</td>\n",
       "      <td>4</td>\n",
       "      <td>1</td>\n",
       "      <td>17</td>\n",
       "      <td>1</td>\n",
       "      <td>25</td>\n",
       "      <td>2</td>\n",
       "    </tr>\n",
       "    <tr>\n",
       "      <th>2988179</th>\n",
       "      <td>2988179</td>\n",
       "      <td>123718</td>\n",
       "      <td>1508211379189330</td>\n",
       "      <td>1508211379000</td>\n",
       "      <td>2</td>\n",
       "      <td>234481</td>\n",
       "      <td>1508211513583</td>\n",
       "      <td>4</td>\n",
       "      <td>3</td>\n",
       "      <td>2</td>\n",
       "      <td>1</td>\n",
       "      <td>25</td>\n",
       "      <td>2</td>\n",
       "    </tr>\n",
       "    <tr>\n",
       "      <th>2988180</th>\n",
       "      <td>2988180</td>\n",
       "      <td>123718</td>\n",
       "      <td>1508211379189330</td>\n",
       "      <td>1508211379000</td>\n",
       "      <td>2</td>\n",
       "      <td>233578</td>\n",
       "      <td>1508211543583</td>\n",
       "      <td>4</td>\n",
       "      <td>3</td>\n",
       "      <td>2</td>\n",
       "      <td>1</td>\n",
       "      <td>25</td>\n",
       "      <td>2</td>\n",
       "    </tr>\n",
       "  </tbody>\n",
       "</table>\n",
       "<p>2988181 rows × 13 columns</p>\n",
       "</div>"
      ],
      "text/plain": [
       "         Unnamed: 0  user_id        session_id  session_start  session_size  \\\n",
       "0                 0        0  1506825423271737  1506825423000             2   \n",
       "1                 1        0  1506825423271737  1506825423000             2   \n",
       "2                 2        1  1506825426267738  1506825426000             2   \n",
       "3                 3        1  1506825426267738  1506825426000             2   \n",
       "4                 4        2  1506825435299739  1506825435000             2   \n",
       "...             ...      ...               ...            ...           ...   \n",
       "2988176     2988176    10051  1508211372158328  1508211372000             2   \n",
       "2988177     2988177   322896  1508211376302329  1508211376000             2   \n",
       "2988178     2988178   322896  1508211376302329  1508211376000             2   \n",
       "2988179     2988179   123718  1508211379189330  1508211379000             2   \n",
       "2988180     2988180   123718  1508211379189330  1508211379000             2   \n",
       "\n",
       "         click_article_id  click_timestamp  click_environment  \\\n",
       "0                  157541    1506826828020                  4   \n",
       "1                   68866    1506826858020                  4   \n",
       "2                  235840    1506827017951                  4   \n",
       "3                   96663    1506827047951                  4   \n",
       "4                  119592    1506827090575                  4   \n",
       "...                   ...              ...                ...   \n",
       "2988176             84911    1508211557302                  4   \n",
       "2988177             30760    1508211672520                  4   \n",
       "2988178            157507    1508211702520                  4   \n",
       "2988179            234481    1508211513583                  4   \n",
       "2988180            233578    1508211543583                  4   \n",
       "\n",
       "         click_deviceGroup  click_os  click_country  click_region  \\\n",
       "0                        3        20              1            20   \n",
       "1                        3        20              1            20   \n",
       "2                        1        17              1            16   \n",
       "3                        1        17              1            16   \n",
       "4                        1        17              1            24   \n",
       "...                    ...       ...            ...           ...   \n",
       "2988176                  3         2              1            25   \n",
       "2988177                  1        17              1            25   \n",
       "2988178                  1        17              1            25   \n",
       "2988179                  3         2              1            25   \n",
       "2988180                  3         2              1            25   \n",
       "\n",
       "         click_referrer_type  \n",
       "0                          2  \n",
       "1                          2  \n",
       "2                          2  \n",
       "3                          2  \n",
       "4                          2  \n",
       "...                      ...  \n",
       "2988176                    1  \n",
       "2988177                    2  \n",
       "2988178                    2  \n",
       "2988179                    2  \n",
       "2988180                    2  \n",
       "\n",
       "[2988181 rows x 13 columns]"
      ]
     },
     "execution_count": 14,
     "metadata": {},
     "output_type": "execute_result"
    }
   ],
   "source": [
    "clicks"
   ]
  },
  {
   "cell_type": "code",
   "execution_count": null,
   "id": "49b087a3",
   "metadata": {},
   "outputs": [],
   "source": []
  },
  {
   "cell_type": "code",
   "execution_count": 15,
   "id": "edb2bfc6",
   "metadata": {},
   "outputs": [],
   "source": [
    "\n",
    "def table_valeurs_manquantes(df):\n",
    "    valeurs_manquantes = ((df.isna().sum()/df.shape[0])*100).sort_values(ascending=False)  \n",
    "    return pd.DataFrame(valeurs_manquantes,columns=['% de valeurs manquantes'])\n",
    "    "
   ]
  },
  {
   "cell_type": "code",
   "execution_count": 16,
   "id": "1bc405b0",
   "metadata": {},
   "outputs": [
    {
     "data": {
      "text/html": [
       "<div>\n",
       "<style scoped>\n",
       "    .dataframe tbody tr th:only-of-type {\n",
       "        vertical-align: middle;\n",
       "    }\n",
       "\n",
       "    .dataframe tbody tr th {\n",
       "        vertical-align: top;\n",
       "    }\n",
       "\n",
       "    .dataframe thead th {\n",
       "        text-align: right;\n",
       "    }\n",
       "</style>\n",
       "<table border=\"1\" class=\"dataframe\">\n",
       "  <thead>\n",
       "    <tr style=\"text-align: right;\">\n",
       "      <th></th>\n",
       "      <th>% de valeurs manquantes</th>\n",
       "    </tr>\n",
       "  </thead>\n",
       "  <tbody>\n",
       "    <tr>\n",
       "      <th>article_id</th>\n",
       "      <td>0.0</td>\n",
       "    </tr>\n",
       "    <tr>\n",
       "      <th>category_id</th>\n",
       "      <td>0.0</td>\n",
       "    </tr>\n",
       "    <tr>\n",
       "      <th>created_at_ts</th>\n",
       "      <td>0.0</td>\n",
       "    </tr>\n",
       "    <tr>\n",
       "      <th>publisher_id</th>\n",
       "      <td>0.0</td>\n",
       "    </tr>\n",
       "    <tr>\n",
       "      <th>words_count</th>\n",
       "      <td>0.0</td>\n",
       "    </tr>\n",
       "  </tbody>\n",
       "</table>\n",
       "</div>"
      ],
      "text/plain": [
       "               % de valeurs manquantes\n",
       "article_id                         0.0\n",
       "category_id                        0.0\n",
       "created_at_ts                      0.0\n",
       "publisher_id                       0.0\n",
       "words_count                        0.0"
      ]
     },
     "execution_count": 16,
     "metadata": {},
     "output_type": "execute_result"
    }
   ],
   "source": [
    "table_valeurs_manquantes(articles_metadata)"
   ]
  },
  {
   "cell_type": "code",
   "execution_count": 17,
   "id": "720b2674",
   "metadata": {},
   "outputs": [
    {
     "data": {
      "text/plain": [
       "0    250\n",
       "dtype: int64"
      ]
     },
     "execution_count": 17,
     "metadata": {},
     "output_type": "execute_result"
    }
   ],
   "source": [
    "pd.DataFrame(articles_embeddings).isna().sum().value_counts()\n"
   ]
  },
  {
   "cell_type": "code",
   "execution_count": 18,
   "id": "068f3591",
   "metadata": {},
   "outputs": [
    {
     "data": {
      "text/html": [
       "<div>\n",
       "<style scoped>\n",
       "    .dataframe tbody tr th:only-of-type {\n",
       "        vertical-align: middle;\n",
       "    }\n",
       "\n",
       "    .dataframe tbody tr th {\n",
       "        vertical-align: top;\n",
       "    }\n",
       "\n",
       "    .dataframe thead th {\n",
       "        text-align: right;\n",
       "    }\n",
       "</style>\n",
       "<table border=\"1\" class=\"dataframe\">\n",
       "  <thead>\n",
       "    <tr style=\"text-align: right;\">\n",
       "      <th></th>\n",
       "      <th>% de valeurs manquantes</th>\n",
       "    </tr>\n",
       "  </thead>\n",
       "  <tbody>\n",
       "    <tr>\n",
       "      <th>Unnamed: 0</th>\n",
       "      <td>0.0</td>\n",
       "    </tr>\n",
       "    <tr>\n",
       "      <th>user_id</th>\n",
       "      <td>0.0</td>\n",
       "    </tr>\n",
       "    <tr>\n",
       "      <th>session_id</th>\n",
       "      <td>0.0</td>\n",
       "    </tr>\n",
       "    <tr>\n",
       "      <th>session_start</th>\n",
       "      <td>0.0</td>\n",
       "    </tr>\n",
       "    <tr>\n",
       "      <th>session_size</th>\n",
       "      <td>0.0</td>\n",
       "    </tr>\n",
       "    <tr>\n",
       "      <th>click_article_id</th>\n",
       "      <td>0.0</td>\n",
       "    </tr>\n",
       "    <tr>\n",
       "      <th>click_timestamp</th>\n",
       "      <td>0.0</td>\n",
       "    </tr>\n",
       "    <tr>\n",
       "      <th>click_environment</th>\n",
       "      <td>0.0</td>\n",
       "    </tr>\n",
       "    <tr>\n",
       "      <th>click_deviceGroup</th>\n",
       "      <td>0.0</td>\n",
       "    </tr>\n",
       "    <tr>\n",
       "      <th>click_os</th>\n",
       "      <td>0.0</td>\n",
       "    </tr>\n",
       "    <tr>\n",
       "      <th>click_country</th>\n",
       "      <td>0.0</td>\n",
       "    </tr>\n",
       "    <tr>\n",
       "      <th>click_region</th>\n",
       "      <td>0.0</td>\n",
       "    </tr>\n",
       "    <tr>\n",
       "      <th>click_referrer_type</th>\n",
       "      <td>0.0</td>\n",
       "    </tr>\n",
       "  </tbody>\n",
       "</table>\n",
       "</div>"
      ],
      "text/plain": [
       "                     % de valeurs manquantes\n",
       "Unnamed: 0                               0.0\n",
       "user_id                                  0.0\n",
       "session_id                               0.0\n",
       "session_start                            0.0\n",
       "session_size                             0.0\n",
       "click_article_id                         0.0\n",
       "click_timestamp                          0.0\n",
       "click_environment                        0.0\n",
       "click_deviceGroup                        0.0\n",
       "click_os                                 0.0\n",
       "click_country                            0.0\n",
       "click_region                             0.0\n",
       "click_referrer_type                      0.0"
      ]
     },
     "execution_count": 18,
     "metadata": {},
     "output_type": "execute_result"
    }
   ],
   "source": [
    "table_valeurs_manquantes(clicks)"
   ]
  },
  {
   "cell_type": "code",
   "execution_count": null,
   "id": "bcf7d84e",
   "metadata": {},
   "outputs": [],
   "source": []
  },
  {
   "cell_type": "code",
   "execution_count": null,
   "id": "8a59f44e",
   "metadata": {},
   "outputs": [],
   "source": []
  },
  {
   "cell_type": "markdown",
   "id": "88842371",
   "metadata": {},
   "source": [
    "## Analyse des clicks"
   ]
  },
  {
   "cell_type": "markdown",
   "id": "c8964d8e",
   "metadata": {},
   "source": [
    "#### Clicks par session utilisateur\n"
   ]
  },
  {
   "cell_type": "code",
   "execution_count": 261,
   "id": "f06db6da",
   "metadata": {},
   "outputs": [
    {
     "data": {
      "text/plain": [
       "2     1260372\n",
       "3      670185\n",
       "4      374240\n",
       "5      220105\n",
       "6      135762\n",
       "       ...   \n",
       "62         62\n",
       "60         60\n",
       "58         58\n",
       "56         56\n",
       "44         44\n",
       "Name: session_size, Length: 72, dtype: int64"
      ]
     },
     "execution_count": 261,
     "metadata": {},
     "output_type": "execute_result"
    }
   ],
   "source": [
    "clicks['session_size'].value_counts()"
   ]
  },
  {
   "cell_type": "code",
   "execution_count": 262,
   "id": "cb3276fa",
   "metadata": {},
   "outputs": [
    {
     "name": "stdout",
     "output_type": "stream",
     "text": [
      "Nombre de clicks par session :\n",
      "  max : 124\n",
      "  min : 2\n"
     ]
    }
   ],
   "source": [
    "max_clicks = clicks['session_size'].max()\n",
    "min_clicks = clicks['session_size'].min()\n",
    "print(f\"Nombre de clicks par session :\\n  max : {max_clicks}\\n  min : {min_clicks}\")\n"
   ]
  },
  {
   "cell_type": "code",
   "execution_count": 263,
   "id": "df48a9c8",
   "metadata": {},
   "outputs": [
    {
     "data": {
      "text/plain": [
       "<AxesSubplot:>"
      ]
     },
     "execution_count": 263,
     "metadata": {},
     "output_type": "execute_result"
    },
    {
     "data": {
      "image/png": "[encoded data removed]",
      "text/plain": [
       "<Figure size 432x288 with 1 Axes>"
      ]
     },
     "metadata": {
      "needs_background": "light"
     },
     "output_type": "display_data"
    }
   ],
   "source": [
    "clicks.session_size.hist(bins=50)\n"
   ]
  },
  {
   "cell_type": "code",
   "execution_count": 268,
   "id": "9ab45509",
   "metadata": {},
   "outputs": [
    {
     "data": {
      "image/png": "[encoded data removed]",
      "text/plain": [
       "<Figure size 1440x288 with 2 Axes>"
      ]
     },
     "metadata": {
      "needs_background": "light"
     },
     "output_type": "display_data"
    }
   ],
   "source": [
    "plt.figure(figsize=(20,4))\n",
    "plt.subplot(1,3,1)\n",
    "clicks.session_size.hist(bins=20, range=(0,20))\n",
    "plt.title('Clicks per session');\n",
    "plt.subplot(1,3,2)\n",
    "clicks.session_size.hist(bins=105, range=(20,125))\n",
    "plt.title('Clicks per session');\n",
    "# plt.subplot(1,3,3)\n",
    "# df_clicks_user.clicks_user.hist(bins=100,range=(200,1300))\n",
    "# plt.title('Clicks per user');\n",
    "plt.show()"
   ]
  },
  {
   "cell_type": "markdown",
   "id": "7f3bd8eb",
   "metadata": {},
   "source": [
    "#### Clicks par utilisateur\n"
   ]
  },
  {
   "cell_type": "code",
   "execution_count": 220,
   "id": "8cc5f0ce",
   "metadata": {},
   "outputs": [],
   "source": [
    "df_clicks_user = clicks.groupby(['user_id']).agg({\n",
    "    'session_id': lambda x: len(x)\n",
    "}).reset_index()\n",
    "df_clicks_user = df_clicks_user.rename(columns={\n",
    "    'session_id':'clicks_user'\n",
    "})"
   ]
  },
  {
   "cell_type": "code",
   "execution_count": 221,
   "id": "19ce0730",
   "metadata": {},
   "outputs": [
    {
     "data": {
      "text/plain": [
       "2      101428\n",
       "4       38432\n",
       "3       22660\n",
       "6       20370\n",
       "5       18070\n",
       "        ...  \n",
       "303         1\n",
       "439         1\n",
       "366         1\n",
       "296         1\n",
       "212         1\n",
       "Name: clicks_user, Length: 302, dtype: int64"
      ]
     },
     "execution_count": 221,
     "metadata": {},
     "output_type": "execute_result"
    }
   ],
   "source": [
    "df_clicks_user['clicks_user'].value_counts()"
   ]
  },
  {
   "cell_type": "code",
   "execution_count": 246,
   "id": "3e35e951",
   "metadata": {},
   "outputs": [
    {
     "name": "stdout",
     "output_type": "stream",
     "text": [
      "Nombre de clicks par utilisateur :\n",
      "  max : 1232\n",
      "  min : 2\n"
     ]
    }
   ],
   "source": [
    "max_clicks = df_clicks_user['clicks_user'].max()\n",
    "min_clicks = df_clicks_user['clicks_user'].min()\n",
    "print(f\"Nombre de clicks par utilisateur :\\n  max : {max_clicks}\\n  min : {min_clicks}\")\n"
   ]
  },
  {
   "cell_type": "code",
   "execution_count": 260,
   "id": "17307768",
   "metadata": {},
   "outputs": [
    {
     "data": {
      "text/plain": [
       "<AxesSubplot:>"
      ]
     },
     "execution_count": 260,
     "metadata": {},
     "output_type": "execute_result"
    },
    {
     "data": {
      "image/png": "[encoded data removed]",
      "text/plain": [
       "<Figure size 432x288 with 1 Axes>"
      ]
     },
     "metadata": {
      "needs_background": "light"
     },
     "output_type": "display_data"
    }
   ],
   "source": [
    "df_clicks_user.clicks_user.hist(bins=50)\n"
   ]
  },
  {
   "cell_type": "code",
   "execution_count": 270,
   "id": "83c674fb",
   "metadata": {},
   "outputs": [
    {
     "data": {
      "image/png": "[encoded data removed]",
      "text/plain": [
       "<Figure size 1440x360 with 3 Axes>"
      ]
     },
     "metadata": {
      "needs_background": "light"
     },
     "output_type": "display_data"
    }
   ],
   "source": [
    "plt.figure(figsize=(20,5))\n",
    "plt.subplot(1,3,1)\n",
    "df_clicks_user.clicks_user.hist(bins=50,range=(0,50))\n",
    "plt.title('Clicks per user');\n",
    "plt.subplot(1,3,2)\n",
    "df_clicks_user.clicks_user.hist(bins=150,range=(50,200))\n",
    "plt.title('Clicks per user');\n",
    "plt.subplot(1,3,3)\n",
    "df_clicks_user.clicks_user.hist(bins=100,range=(200,1300))\n",
    "plt.title('Clicks per user');\n",
    "plt.show()"
   ]
  },
  {
   "cell_type": "code",
   "execution_count": null,
   "id": "775486f0",
   "metadata": {},
   "outputs": [],
   "source": []
  },
  {
   "cell_type": "markdown",
   "id": "34ace7bd",
   "metadata": {},
   "source": [
    "\n",
    "#### Clicks par utilisateur et articles\n"
   ]
  },
  {
   "cell_type": "code",
   "execution_count": 227,
   "id": "78e29df1",
   "metadata": {},
   "outputs": [
    {
     "data": {
      "text/html": [
       "<div>\n",
       "<style scoped>\n",
       "    .dataframe tbody tr th:only-of-type {\n",
       "        vertical-align: middle;\n",
       "    }\n",
       "\n",
       "    .dataframe tbody tr th {\n",
       "        vertical-align: top;\n",
       "    }\n",
       "\n",
       "    .dataframe thead th {\n",
       "        text-align: right;\n",
       "    }\n",
       "</style>\n",
       "<table border=\"1\" class=\"dataframe\">\n",
       "  <thead>\n",
       "    <tr style=\"text-align: right;\">\n",
       "      <th></th>\n",
       "      <th>user_id</th>\n",
       "      <th>click_article_id</th>\n",
       "      <th>session_size</th>\n",
       "    </tr>\n",
       "  </thead>\n",
       "  <tbody>\n",
       "    <tr>\n",
       "      <th>0</th>\n",
       "      <td>0</td>\n",
       "      <td>68866</td>\n",
       "      <td>1</td>\n",
       "    </tr>\n",
       "    <tr>\n",
       "      <th>1</th>\n",
       "      <td>0</td>\n",
       "      <td>87205</td>\n",
       "      <td>1</td>\n",
       "    </tr>\n",
       "    <tr>\n",
       "      <th>2</th>\n",
       "      <td>0</td>\n",
       "      <td>87224</td>\n",
       "      <td>1</td>\n",
       "    </tr>\n",
       "    <tr>\n",
       "      <th>3</th>\n",
       "      <td>0</td>\n",
       "      <td>96755</td>\n",
       "      <td>1</td>\n",
       "    </tr>\n",
       "    <tr>\n",
       "      <th>4</th>\n",
       "      <td>0</td>\n",
       "      <td>157541</td>\n",
       "      <td>1</td>\n",
       "    </tr>\n",
       "    <tr>\n",
       "      <th>...</th>\n",
       "      <td>...</td>\n",
       "      <td>...</td>\n",
       "      <td>...</td>\n",
       "    </tr>\n",
       "    <tr>\n",
       "      <th>2950705</th>\n",
       "      <td>322894</td>\n",
       "      <td>168401</td>\n",
       "      <td>1</td>\n",
       "    </tr>\n",
       "    <tr>\n",
       "      <th>2950706</th>\n",
       "      <td>322895</td>\n",
       "      <td>63746</td>\n",
       "      <td>1</td>\n",
       "    </tr>\n",
       "    <tr>\n",
       "      <th>2950707</th>\n",
       "      <td>322895</td>\n",
       "      <td>289197</td>\n",
       "      <td>1</td>\n",
       "    </tr>\n",
       "    <tr>\n",
       "      <th>2950708</th>\n",
       "      <td>322896</td>\n",
       "      <td>30760</td>\n",
       "      <td>1</td>\n",
       "    </tr>\n",
       "    <tr>\n",
       "      <th>2950709</th>\n",
       "      <td>322896</td>\n",
       "      <td>157507</td>\n",
       "      <td>1</td>\n",
       "    </tr>\n",
       "  </tbody>\n",
       "</table>\n",
       "<p>2950710 rows × 3 columns</p>\n",
       "</div>"
      ],
      "text/plain": [
       "         user_id  click_article_id  session_size\n",
       "0              0             68866             1\n",
       "1              0             87205             1\n",
       "2              0             87224             1\n",
       "3              0             96755             1\n",
       "4              0            157541             1\n",
       "...          ...               ...           ...\n",
       "2950705   322894            168401             1\n",
       "2950706   322895             63746             1\n",
       "2950707   322895            289197             1\n",
       "2950708   322896             30760             1\n",
       "2950709   322896            157507             1\n",
       "\n",
       "[2950710 rows x 3 columns]"
      ]
     },
     "execution_count": 227,
     "metadata": {},
     "output_type": "execute_result"
    }
   ],
   "source": [
    "df_clicks_user_article = clicks.copy()\n",
    "\n",
    "df_clicks_user_article = df_clicks_user_article.groupby(['user_id','click_article_id']).agg({\n",
    "    'session_size': lambda x: len(x)\n",
    "}).reset_index()\n",
    "\n",
    "df_clicks_user_article"
   ]
  },
  {
   "cell_type": "code",
   "execution_count": 228,
   "id": "c8440c9e",
   "metadata": {},
   "outputs": [
    {
     "data": {
      "text/plain": [
       "1     2916835\n",
       "2       31459\n",
       "3        1869\n",
       "4         343\n",
       "5          95\n",
       "6          42\n",
       "7          22\n",
       "8          14\n",
       "9           7\n",
       "10          7\n",
       "13          6\n",
       "12          3\n",
       "33          3\n",
       "16          2\n",
       "17          1\n",
       "30          1\n",
       "31          1\n",
       "Name: session_size, dtype: int64"
      ]
     },
     "execution_count": 228,
     "metadata": {},
     "output_type": "execute_result"
    }
   ],
   "source": [
    "\n",
    "df_clicks_user_article['session_size'].value_counts()"
   ]
  },
  {
   "cell_type": "code",
   "execution_count": 275,
   "id": "9dcdf9a0",
   "metadata": {},
   "outputs": [
    {
     "name": "stdout",
     "output_type": "stream",
     "text": [
      "Nombre de clicks par utilisateur :\n",
      "  max : 33\n",
      "  min : 1\n"
     ]
    }
   ],
   "source": [
    "max_clicks = df_clicks_user_article['session_size'].max()\n",
    "min_clicks = df_clicks_user_article['session_size'].min()\n",
    "print(f\"Nombre de clicks par utilisateur :\\n  max : {max_clicks}\\n  min : {min_clicks}\")\n"
   ]
  },
  {
   "cell_type": "code",
   "execution_count": 276,
   "id": "c6c4c054",
   "metadata": {},
   "outputs": [
    {
     "data": {
      "text/plain": [
       "<AxesSubplot:>"
      ]
     },
     "execution_count": 276,
     "metadata": {},
     "output_type": "execute_result"
    },
    {
     "data": {
      "image/png": "[encoded data removed]",
      "text/plain": [
       "<Figure size 432x288 with 1 Axes>"
      ]
     },
     "metadata": {
      "needs_background": "light"
     },
     "output_type": "display_data"
    }
   ],
   "source": [
    "df_clicks_user_article.session_size.hist(bins=33)\n"
   ]
  },
  {
   "cell_type": "code",
   "execution_count": 292,
   "id": "6beb510e",
   "metadata": {},
   "outputs": [
    {
     "data": {
      "image/png": "[encoded data removed]",
      "text/plain": [
       "<Figure size 1440x360 with 3 Axes>"
      ]
     },
     "metadata": {
      "needs_background": "light"
     },
     "output_type": "display_data"
    }
   ],
   "source": [
    "plt.figure(figsize=(20,5))\n",
    "plt.subplot(1,3,1)\n",
    "df_clicks_user_article.session_size.hist(bins=2,range=(0,2))\n",
    "plt.title('Clicks per user article');\n",
    "plt.subplot(1,3,2)\n",
    "df_clicks_user_article.session_size.hist(bins=3,range=(2,5))\n",
    "plt.title('Clicks per user article');\n",
    "plt.subplot(1,3,3)\n",
    "df_clicks_user_article.session_size.hist(bins=30,range=(5,35))\n",
    "plt.title('Clicks per user article');\n",
    "plt.show()"
   ]
  },
  {
   "cell_type": "code",
   "execution_count": null,
   "id": "a5f396da",
   "metadata": {},
   "outputs": [],
   "source": []
  },
  {
   "cell_type": "markdown",
   "id": "f6358b4e",
   "metadata": {},
   "source": [
    "#### Clicks par session et articles\n"
   ]
  },
  {
   "cell_type": "code",
   "execution_count": null,
   "id": "cb0f5c8a",
   "metadata": {},
   "outputs": [],
   "source": []
  },
  {
   "cell_type": "code",
   "execution_count": 273,
   "id": "00866579",
   "metadata": {},
   "outputs": [
    {
     "data": {
      "text/html": [
       "<div>\n",
       "<style scoped>\n",
       "    .dataframe tbody tr th:only-of-type {\n",
       "        vertical-align: middle;\n",
       "    }\n",
       "\n",
       "    .dataframe tbody tr th {\n",
       "        vertical-align: top;\n",
       "    }\n",
       "\n",
       "    .dataframe thead th {\n",
       "        text-align: right;\n",
       "    }\n",
       "</style>\n",
       "<table border=\"1\" class=\"dataframe\">\n",
       "  <thead>\n",
       "    <tr style=\"text-align: right;\">\n",
       "      <th></th>\n",
       "      <th>user_id</th>\n",
       "      <th>session_id</th>\n",
       "      <th>click_article_id</th>\n",
       "      <th>session_size</th>\n",
       "    </tr>\n",
       "  </thead>\n",
       "  <tbody>\n",
       "    <tr>\n",
       "      <th>0</th>\n",
       "      <td>0</td>\n",
       "      <td>1506825423271737</td>\n",
       "      <td>68866</td>\n",
       "      <td>1</td>\n",
       "    </tr>\n",
       "    <tr>\n",
       "      <th>1</th>\n",
       "      <td>0</td>\n",
       "      <td>1506825423271737</td>\n",
       "      <td>157541</td>\n",
       "      <td>1</td>\n",
       "    </tr>\n",
       "    <tr>\n",
       "      <th>2</th>\n",
       "      <td>0</td>\n",
       "      <td>1507340000920377</td>\n",
       "      <td>96755</td>\n",
       "      <td>1</td>\n",
       "    </tr>\n",
       "    <tr>\n",
       "      <th>3</th>\n",
       "      <td>0</td>\n",
       "      <td>1507340000920377</td>\n",
       "      <td>313996</td>\n",
       "      <td>1</td>\n",
       "    </tr>\n",
       "    <tr>\n",
       "      <th>4</th>\n",
       "      <td>0</td>\n",
       "      <td>1507385847186982</td>\n",
       "      <td>160158</td>\n",
       "      <td>1</td>\n",
       "    </tr>\n",
       "    <tr>\n",
       "      <th>...</th>\n",
       "      <td>...</td>\n",
       "      <td>...</td>\n",
       "      <td>...</td>\n",
       "      <td>...</td>\n",
       "    </tr>\n",
       "    <tr>\n",
       "      <th>2988176</th>\n",
       "      <td>322894</td>\n",
       "      <td>1508211292336313</td>\n",
       "      <td>168401</td>\n",
       "      <td>1</td>\n",
       "    </tr>\n",
       "    <tr>\n",
       "      <th>2988177</th>\n",
       "      <td>322895</td>\n",
       "      <td>1508211314125317</td>\n",
       "      <td>63746</td>\n",
       "      <td>1</td>\n",
       "    </tr>\n",
       "    <tr>\n",
       "      <th>2988178</th>\n",
       "      <td>322895</td>\n",
       "      <td>1508211314125317</td>\n",
       "      <td>289197</td>\n",
       "      <td>1</td>\n",
       "    </tr>\n",
       "    <tr>\n",
       "      <th>2988179</th>\n",
       "      <td>322896</td>\n",
       "      <td>1508211376302329</td>\n",
       "      <td>30760</td>\n",
       "      <td>1</td>\n",
       "    </tr>\n",
       "    <tr>\n",
       "      <th>2988180</th>\n",
       "      <td>322896</td>\n",
       "      <td>1508211376302329</td>\n",
       "      <td>157507</td>\n",
       "      <td>1</td>\n",
       "    </tr>\n",
       "  </tbody>\n",
       "</table>\n",
       "<p>2988181 rows × 4 columns</p>\n",
       "</div>"
      ],
      "text/plain": [
       "         user_id        session_id  click_article_id  session_size\n",
       "0              0  1506825423271737             68866             1\n",
       "1              0  1506825423271737            157541             1\n",
       "2              0  1507340000920377             96755             1\n",
       "3              0  1507340000920377            313996             1\n",
       "4              0  1507385847186982            160158             1\n",
       "...          ...               ...               ...           ...\n",
       "2988176   322894  1508211292336313            168401             1\n",
       "2988177   322895  1508211314125317             63746             1\n",
       "2988178   322895  1508211314125317            289197             1\n",
       "2988179   322896  1508211376302329             30760             1\n",
       "2988180   322896  1508211376302329            157507             1\n",
       "\n",
       "[2988181 rows x 4 columns]"
      ]
     },
     "execution_count": 273,
     "metadata": {},
     "output_type": "execute_result"
    }
   ],
   "source": [
    "df_clicks_user_article_session = clicks.copy()\n",
    "\n",
    "df_clicks_user_article_session = df_clicks_user_article_session.groupby(['user_id','session_id','click_article_id']).agg({\n",
    "    'session_size': lambda x: len(x)\n",
    "}).reset_index()\n",
    "\n",
    "df_clicks_user_article_session"
   ]
  },
  {
   "cell_type": "code",
   "execution_count": 274,
   "id": "f1fd5093",
   "metadata": {},
   "outputs": [
    {
     "data": {
      "text/plain": [
       "1    2988181\n",
       "Name: session_size, dtype: int64"
      ]
     },
     "execution_count": 274,
     "metadata": {},
     "output_type": "execute_result"
    }
   ],
   "source": [
    "df_clicks_user_article_session['session_size'].value_counts()"
   ]
  },
  {
   "cell_type": "code",
   "execution_count": null,
   "id": "60d80a37",
   "metadata": {},
   "outputs": [],
   "source": []
  },
  {
   "cell_type": "markdown",
   "id": "3f681ec0",
   "metadata": {},
   "source": [
    "# Content based recommender"
   ]
  },
  {
   "cell_type": "code",
   "execution_count": null,
   "id": "464d82eb",
   "metadata": {},
   "outputs": [],
   "source": []
  },
  {
   "cell_type": "code",
   "execution_count": 19,
   "id": "9230beb1",
   "metadata": {},
   "outputs": [],
   "source": [
    "from operator import itemgetter\n",
    "\n",
    "# get embedding for one article\n",
    "def get_embedding_from_article(article_id):\n",
    "    return articles_embeddings[article_id]\n",
    "\n",
    "# get last clicked article or random clicked article for one user\n",
    "def get_article_from_user(user_id, method = 'last'):\n",
    "    \n",
    "    article_id = ''\n",
    "    clicks_user = clicks[clicks['user_id']==user_id].copy()\n",
    "    \n",
    "    if method == 'last':\n",
    "        clicks_user['click_timestamp'] = clicks_user['click_timestamp'].apply(str)\n",
    "        clicks_user['click_timestamp'] = clicks_user.apply(lambda x: x['click_timestamp'][:-3], axis = 1)\n",
    "        clicks_user['click_timestamp'] = clicks_user['click_timestamp'].apply(int)\n",
    "        clicks_user['click_datetime'] = clicks_user['click_timestamp'].apply(lambda x: datetime.fromtimestamp(x))\n",
    "        article_id = clicks_user[clicks_user['click_datetime'] == clicks_user['click_datetime'].max()]['click_article_id']\n",
    "    elif method == 'random':\n",
    "        article_id = clicks_user.sample(1)['click_article_id']\n",
    "\n",
    "    return article_id.item()\n",
    "\n",
    "# get all clicked articles for one user \n",
    "def get_articles_from_user(user_id):\n",
    "    \n",
    "    article_id = ''\n",
    "    clicks_user = clicks[clicks['user_id']==user_id].copy()\n",
    "\n",
    "    return clicks_user['click_article_id'].to_list()\n",
    "\n",
    "# get mean embedding from all embeddings for one user\n",
    "def get_embedding_from_user(user_id):\n",
    "    user_articles = get_articles_from_user(user_id)\n",
    "    user_articles_index = get_articles_index_from_user_articles(user_articles)\n",
    "    user_embeddings = articles_embeddings[user_articles_index]\n",
    "    user_embedding = user_embeddings.mean(axis=0)\n",
    "    return user_embedding\n",
    "\n",
    "# get articles index of list of articles\n",
    "def get_articles_index_from_user_articles(user_articles):\n",
    "    user_articles_index = articles_metadata[articles_metadata['article_id'].isin(user_articles)].index.to_list()\n",
    "    return user_articles_index\n",
    "\n",
    "# compute cosinus similarity between given embedding and others articles embedding\n",
    "def cos_sim(embedding, user_id):\n",
    "    user_articles_index = get_articles_index_from_user_articles(get_articles_from_user(user_id))\n",
    "    scores = []\n",
    "    for i in range(0, len(articles_embeddings)):\n",
    "        if i not in user_articles_index:\n",
    "            cos_sim = np.dot(embedding, articles_embeddings[i])/(np.linalg.norm(embedding)*np.linalg.norm(articles_embeddings[i]))\n",
    "            scores.append(cos_sim)\n",
    "    return scores\n",
    "\n",
    "# recommendations with mean embedding, last article or random article from one user\n",
    "def content_based_recommend(user_id, top, method = 'mean'):\n",
    "    if method == 'mean':\n",
    "        embedding = get_embedding_from_user(user_id)\n",
    "    else:\n",
    "        article_id = get_article_from_user(user_id, method)\n",
    "        embedding = get_embedding_from_article(article_id)\n",
    "        \n",
    "    scores = cos_sim(embedding, user_id)\n",
    "    best_scores = find_top_n_indices(scores, top)\n",
    "    \n",
    "    return best_scores\n",
    "\n",
    "\n",
    "# find top indices in the scores list \n",
    "def find_top_n_indices(scores, top=5):\n",
    "    indexed = enumerate(scores)\n",
    "    sorted_scores = sorted(indexed, \n",
    "                         key=itemgetter(1), \n",
    "                         reverse=True) \n",
    "    return [d[0] for d in sorted_scores[:top]]\n"
   ]
  },
  {
   "cell_type": "code",
   "execution_count": null,
   "id": "c7a8b597",
   "metadata": {},
   "outputs": [],
   "source": []
  },
  {
   "cell_type": "code",
   "execution_count": 20,
   "id": "03e4335f",
   "metadata": {},
   "outputs": [
    {
     "name": "stdout",
     "output_type": "stream",
     "text": [
      "Wall time: 3.87 s\n"
     ]
    },
    {
     "data": {
      "text/plain": [
       "[162229, 160960, 162224, 155939, 160074]"
      ]
     },
     "execution_count": 20,
     "metadata": {},
     "output_type": "execute_result"
    }
   ],
   "source": [
    "%%time\n",
    "content_based_recommend(0, 5, 'mean')\n"
   ]
  },
  {
   "cell_type": "code",
   "execution_count": 21,
   "id": "05f7d22c",
   "metadata": {},
   "outputs": [
    {
     "name": "stdout",
     "output_type": "stream",
     "text": [
      "Wall time: 3.47 s\n"
     ]
    },
    {
     "data": {
      "text/plain": [
       "[87275, 86142, 87673, 87029, 87424]"
      ]
     },
     "execution_count": 21,
     "metadata": {},
     "output_type": "execute_result"
    }
   ],
   "source": [
    "%%time\n",
    "content_based_recommend(0, 5, 'last')\n"
   ]
  },
  {
   "cell_type": "code",
   "execution_count": 22,
   "id": "a3d60886",
   "metadata": {},
   "outputs": [
    {
     "name": "stdout",
     "output_type": "stream",
     "text": [
      "Wall time: 3.44 s\n"
     ]
    },
    {
     "data": {
      "text/plain": [
       "[157510, 159279, 157550, 162363, 156351]"
      ]
     },
     "execution_count": 22,
     "metadata": {},
     "output_type": "execute_result"
    }
   ],
   "source": [
    "%%time\n",
    "content_based_recommend(0, 5, 'random')\n"
   ]
  },
  {
   "cell_type": "code",
   "execution_count": null,
   "id": "e940b7e5",
   "metadata": {},
   "outputs": [],
   "source": []
  },
  {
   "cell_type": "markdown",
   "id": "0a107331",
   "metadata": {},
   "source": [
    "# User based recommender"
   ]
  },
  {
   "cell_type": "code",
   "execution_count": null,
   "id": "fd271665",
   "metadata": {},
   "outputs": [],
   "source": []
  },
  {
   "cell_type": "code",
   "execution_count": 23,
   "id": "79bf80f6",
   "metadata": {},
   "outputs": [],
   "source": [
    "from surprise import Reader, Dataset\n",
    "from surprise.model_selection import train_test_split, cross_validate\n",
    "from surprise import SVD, accuracy"
   ]
  },
  {
   "cell_type": "code",
   "execution_count": null,
   "id": "de433f1b",
   "metadata": {},
   "outputs": [],
   "source": []
  },
  {
   "cell_type": "markdown",
   "id": "12efe885",
   "metadata": {},
   "source": [
    "## Matrice user/rating"
   ]
  },
  {
   "cell_type": "markdown",
   "id": "57f6968c",
   "metadata": {},
   "source": [
    "#### Clicks par user/article"
   ]
  },
  {
   "cell_type": "code",
   "execution_count": 151,
   "id": "8f43e5c3",
   "metadata": {},
   "outputs": [],
   "source": [
    "\n",
    "# keeping used columns\n",
    "df_clicks_user_article = clicks.copy()\n",
    "df_clicks_user_article = df_clicks_user_article[['user_id','session_id','session_size','click_article_id']]\n",
    "\n",
    "# clicks ratio relative to session size\n",
    "df_clicks_user_article['session_ratio'] = 1 / df_clicks_user_article['session_size']\n",
    "\n",
    "# group clicks by user and article and compute \n",
    "df_clicks_user_article = df_clicks_user_article.groupby(['user_id','click_article_id']).agg({\n",
    "    'session_ratio': lambda x: sum(x),\n",
    "    'session_size': lambda x: len(x)\n",
    "}).reset_index()\n",
    "\n",
    "# rename aggregate columns\n",
    "df_clicks_user_article = df_clicks_user_article.rename(columns={\n",
    "    'session_size':'clicks',\n",
    "    'session_ratio':'clicks_pond_session'\n",
    "})\n"
   ]
  },
  {
   "cell_type": "code",
   "execution_count": 152,
   "id": "4cdd2bb1",
   "metadata": {},
   "outputs": [
    {
     "data": {
      "text/html": [
       "<div>\n",
       "<style scoped>\n",
       "    .dataframe tbody tr th:only-of-type {\n",
       "        vertical-align: middle;\n",
       "    }\n",
       "\n",
       "    .dataframe tbody tr th {\n",
       "        vertical-align: top;\n",
       "    }\n",
       "\n",
       "    .dataframe thead th {\n",
       "        text-align: right;\n",
       "    }\n",
       "</style>\n",
       "<table border=\"1\" class=\"dataframe\">\n",
       "  <thead>\n",
       "    <tr style=\"text-align: right;\">\n",
       "      <th></th>\n",
       "      <th>user_id</th>\n",
       "      <th>click_article_id</th>\n",
       "      <th>clicks_pond_session</th>\n",
       "      <th>clicks</th>\n",
       "    </tr>\n",
       "  </thead>\n",
       "  <tbody>\n",
       "    <tr>\n",
       "      <th>0</th>\n",
       "      <td>0</td>\n",
       "      <td>68866</td>\n",
       "      <td>0.5</td>\n",
       "      <td>1</td>\n",
       "    </tr>\n",
       "    <tr>\n",
       "      <th>1</th>\n",
       "      <td>0</td>\n",
       "      <td>87205</td>\n",
       "      <td>0.5</td>\n",
       "      <td>1</td>\n",
       "    </tr>\n",
       "    <tr>\n",
       "      <th>2</th>\n",
       "      <td>0</td>\n",
       "      <td>87224</td>\n",
       "      <td>0.5</td>\n",
       "      <td>1</td>\n",
       "    </tr>\n",
       "    <tr>\n",
       "      <th>3</th>\n",
       "      <td>0</td>\n",
       "      <td>96755</td>\n",
       "      <td>0.5</td>\n",
       "      <td>1</td>\n",
       "    </tr>\n",
       "    <tr>\n",
       "      <th>4</th>\n",
       "      <td>0</td>\n",
       "      <td>157541</td>\n",
       "      <td>0.5</td>\n",
       "      <td>1</td>\n",
       "    </tr>\n",
       "    <tr>\n",
       "      <th>...</th>\n",
       "      <td>...</td>\n",
       "      <td>...</td>\n",
       "      <td>...</td>\n",
       "      <td>...</td>\n",
       "    </tr>\n",
       "    <tr>\n",
       "      <th>2950705</th>\n",
       "      <td>322894</td>\n",
       "      <td>168401</td>\n",
       "      <td>0.5</td>\n",
       "      <td>1</td>\n",
       "    </tr>\n",
       "    <tr>\n",
       "      <th>2950706</th>\n",
       "      <td>322895</td>\n",
       "      <td>63746</td>\n",
       "      <td>0.5</td>\n",
       "      <td>1</td>\n",
       "    </tr>\n",
       "    <tr>\n",
       "      <th>2950707</th>\n",
       "      <td>322895</td>\n",
       "      <td>289197</td>\n",
       "      <td>0.5</td>\n",
       "      <td>1</td>\n",
       "    </tr>\n",
       "    <tr>\n",
       "      <th>2950708</th>\n",
       "      <td>322896</td>\n",
       "      <td>30760</td>\n",
       "      <td>0.5</td>\n",
       "      <td>1</td>\n",
       "    </tr>\n",
       "    <tr>\n",
       "      <th>2950709</th>\n",
       "      <td>322896</td>\n",
       "      <td>157507</td>\n",
       "      <td>0.5</td>\n",
       "      <td>1</td>\n",
       "    </tr>\n",
       "  </tbody>\n",
       "</table>\n",
       "<p>2950710 rows × 4 columns</p>\n",
       "</div>"
      ],
      "text/plain": [
       "         user_id  click_article_id  clicks_pond_session  clicks\n",
       "0              0             68866                  0.5       1\n",
       "1              0             87205                  0.5       1\n",
       "2              0             87224                  0.5       1\n",
       "3              0             96755                  0.5       1\n",
       "4              0            157541                  0.5       1\n",
       "...          ...               ...                  ...     ...\n",
       "2950705   322894            168401                  0.5       1\n",
       "2950706   322895             63746                  0.5       1\n",
       "2950707   322895            289197                  0.5       1\n",
       "2950708   322896             30760                  0.5       1\n",
       "2950709   322896            157507                  0.5       1\n",
       "\n",
       "[2950710 rows x 4 columns]"
      ]
     },
     "execution_count": 152,
     "metadata": {},
     "output_type": "execute_result"
    }
   ],
   "source": [
    "df_clicks_user_article"
   ]
  },
  {
   "cell_type": "markdown",
   "id": "fa6142cc",
   "metadata": {},
   "source": [
    "#### Clicks par user"
   ]
  },
  {
   "cell_type": "code",
   "execution_count": 153,
   "id": "01bba8ee",
   "metadata": {},
   "outputs": [],
   "source": [
    "df_clicks_user = clicks.groupby(['user_id']).agg({\n",
    "    'session_id': lambda x: len(x)\n",
    "}).reset_index()\n",
    "df_clicks_user = df_clicks_user.rename(columns={\n",
    "    'session_id':'clicks_user'\n",
    "})"
   ]
  },
  {
   "cell_type": "code",
   "execution_count": 154,
   "id": "23fc1062",
   "metadata": {},
   "outputs": [
    {
     "data": {
      "text/html": [
       "<div>\n",
       "<style scoped>\n",
       "    .dataframe tbody tr th:only-of-type {\n",
       "        vertical-align: middle;\n",
       "    }\n",
       "\n",
       "    .dataframe tbody tr th {\n",
       "        vertical-align: top;\n",
       "    }\n",
       "\n",
       "    .dataframe thead th {\n",
       "        text-align: right;\n",
       "    }\n",
       "</style>\n",
       "<table border=\"1\" class=\"dataframe\">\n",
       "  <thead>\n",
       "    <tr style=\"text-align: right;\">\n",
       "      <th></th>\n",
       "      <th>user_id</th>\n",
       "      <th>clicks_user</th>\n",
       "    </tr>\n",
       "  </thead>\n",
       "  <tbody>\n",
       "    <tr>\n",
       "      <th>0</th>\n",
       "      <td>0</td>\n",
       "      <td>8</td>\n",
       "    </tr>\n",
       "    <tr>\n",
       "      <th>1</th>\n",
       "      <td>1</td>\n",
       "      <td>12</td>\n",
       "    </tr>\n",
       "    <tr>\n",
       "      <th>2</th>\n",
       "      <td>2</td>\n",
       "      <td>4</td>\n",
       "    </tr>\n",
       "    <tr>\n",
       "      <th>3</th>\n",
       "      <td>3</td>\n",
       "      <td>17</td>\n",
       "    </tr>\n",
       "    <tr>\n",
       "      <th>4</th>\n",
       "      <td>4</td>\n",
       "      <td>7</td>\n",
       "    </tr>\n",
       "    <tr>\n",
       "      <th>...</th>\n",
       "      <td>...</td>\n",
       "      <td>...</td>\n",
       "    </tr>\n",
       "    <tr>\n",
       "      <th>322892</th>\n",
       "      <td>322892</td>\n",
       "      <td>2</td>\n",
       "    </tr>\n",
       "    <tr>\n",
       "      <th>322893</th>\n",
       "      <td>322893</td>\n",
       "      <td>2</td>\n",
       "    </tr>\n",
       "    <tr>\n",
       "      <th>322894</th>\n",
       "      <td>322894</td>\n",
       "      <td>2</td>\n",
       "    </tr>\n",
       "    <tr>\n",
       "      <th>322895</th>\n",
       "      <td>322895</td>\n",
       "      <td>2</td>\n",
       "    </tr>\n",
       "    <tr>\n",
       "      <th>322896</th>\n",
       "      <td>322896</td>\n",
       "      <td>2</td>\n",
       "    </tr>\n",
       "  </tbody>\n",
       "</table>\n",
       "<p>322897 rows × 2 columns</p>\n",
       "</div>"
      ],
      "text/plain": [
       "        user_id  clicks_user\n",
       "0             0            8\n",
       "1             1           12\n",
       "2             2            4\n",
       "3             3           17\n",
       "4             4            7\n",
       "...         ...          ...\n",
       "322892   322892            2\n",
       "322893   322893            2\n",
       "322894   322894            2\n",
       "322895   322895            2\n",
       "322896   322896            2\n",
       "\n",
       "[322897 rows x 2 columns]"
      ]
     },
     "execution_count": 154,
     "metadata": {},
     "output_type": "execute_result"
    }
   ],
   "source": [
    "df_clicks_user"
   ]
  },
  {
   "cell_type": "markdown",
   "id": "d434e41f",
   "metadata": {},
   "source": [
    "#### Merge des 3 ratings"
   ]
  },
  {
   "cell_type": "code",
   "execution_count": 155,
   "id": "1ec986ee",
   "metadata": {},
   "outputs": [],
   "source": [
    "df_user_rating = df_clicks_user.merge(\n",
    "    df_clicks_user_article, how='outer', on=['user_id'])\n",
    "\n",
    "df_user_rating['clicks_pond_total'] = df_user_rating['clicks'] / df_user_rating['clicks_user']\n",
    "\n",
    "df_user_rating = df_user_rating.rename(columns={\n",
    "    'click_article_id':'article_id'\n",
    "})\n",
    "\n",
    "df_user_rating = df_user_rating[['user_id', 'article_id', 'clicks', 'clicks_pond_session', 'clicks_pond_total']]\n"
   ]
  },
  {
   "cell_type": "code",
   "execution_count": 156,
   "id": "c4d5af7c",
   "metadata": {},
   "outputs": [
    {
     "data": {
      "text/html": [
       "<div>\n",
       "<style scoped>\n",
       "    .dataframe tbody tr th:only-of-type {\n",
       "        vertical-align: middle;\n",
       "    }\n",
       "\n",
       "    .dataframe tbody tr th {\n",
       "        vertical-align: top;\n",
       "    }\n",
       "\n",
       "    .dataframe thead th {\n",
       "        text-align: right;\n",
       "    }\n",
       "</style>\n",
       "<table border=\"1\" class=\"dataframe\">\n",
       "  <thead>\n",
       "    <tr style=\"text-align: right;\">\n",
       "      <th></th>\n",
       "      <th>user_id</th>\n",
       "      <th>article_id</th>\n",
       "      <th>clicks</th>\n",
       "      <th>clicks_pond_session</th>\n",
       "      <th>clicks_pond_total</th>\n",
       "    </tr>\n",
       "  </thead>\n",
       "  <tbody>\n",
       "    <tr>\n",
       "      <th>0</th>\n",
       "      <td>0</td>\n",
       "      <td>68866</td>\n",
       "      <td>1</td>\n",
       "      <td>0.5</td>\n",
       "      <td>0.125</td>\n",
       "    </tr>\n",
       "    <tr>\n",
       "      <th>1</th>\n",
       "      <td>0</td>\n",
       "      <td>87205</td>\n",
       "      <td>1</td>\n",
       "      <td>0.5</td>\n",
       "      <td>0.125</td>\n",
       "    </tr>\n",
       "    <tr>\n",
       "      <th>2</th>\n",
       "      <td>0</td>\n",
       "      <td>87224</td>\n",
       "      <td>1</td>\n",
       "      <td>0.5</td>\n",
       "      <td>0.125</td>\n",
       "    </tr>\n",
       "    <tr>\n",
       "      <th>3</th>\n",
       "      <td>0</td>\n",
       "      <td>96755</td>\n",
       "      <td>1</td>\n",
       "      <td>0.5</td>\n",
       "      <td>0.125</td>\n",
       "    </tr>\n",
       "    <tr>\n",
       "      <th>4</th>\n",
       "      <td>0</td>\n",
       "      <td>157541</td>\n",
       "      <td>1</td>\n",
       "      <td>0.5</td>\n",
       "      <td>0.125</td>\n",
       "    </tr>\n",
       "    <tr>\n",
       "      <th>...</th>\n",
       "      <td>...</td>\n",
       "      <td>...</td>\n",
       "      <td>...</td>\n",
       "      <td>...</td>\n",
       "      <td>...</td>\n",
       "    </tr>\n",
       "    <tr>\n",
       "      <th>2950705</th>\n",
       "      <td>322894</td>\n",
       "      <td>168401</td>\n",
       "      <td>1</td>\n",
       "      <td>0.5</td>\n",
       "      <td>0.500</td>\n",
       "    </tr>\n",
       "    <tr>\n",
       "      <th>2950706</th>\n",
       "      <td>322895</td>\n",
       "      <td>63746</td>\n",
       "      <td>1</td>\n",
       "      <td>0.5</td>\n",
       "      <td>0.500</td>\n",
       "    </tr>\n",
       "    <tr>\n",
       "      <th>2950707</th>\n",
       "      <td>322895</td>\n",
       "      <td>289197</td>\n",
       "      <td>1</td>\n",
       "      <td>0.5</td>\n",
       "      <td>0.500</td>\n",
       "    </tr>\n",
       "    <tr>\n",
       "      <th>2950708</th>\n",
       "      <td>322896</td>\n",
       "      <td>30760</td>\n",
       "      <td>1</td>\n",
       "      <td>0.5</td>\n",
       "      <td>0.500</td>\n",
       "    </tr>\n",
       "    <tr>\n",
       "      <th>2950709</th>\n",
       "      <td>322896</td>\n",
       "      <td>157507</td>\n",
       "      <td>1</td>\n",
       "      <td>0.5</td>\n",
       "      <td>0.500</td>\n",
       "    </tr>\n",
       "  </tbody>\n",
       "</table>\n",
       "<p>2950710 rows × 5 columns</p>\n",
       "</div>"
      ],
      "text/plain": [
       "         user_id  article_id  clicks  clicks_pond_session  clicks_pond_total\n",
       "0              0       68866       1                  0.5              0.125\n",
       "1              0       87205       1                  0.5              0.125\n",
       "2              0       87224       1                  0.5              0.125\n",
       "3              0       96755       1                  0.5              0.125\n",
       "4              0      157541       1                  0.5              0.125\n",
       "...          ...         ...     ...                  ...                ...\n",
       "2950705   322894      168401       1                  0.5              0.500\n",
       "2950706   322895       63746       1                  0.5              0.500\n",
       "2950707   322895      289197       1                  0.5              0.500\n",
       "2950708   322896       30760       1                  0.5              0.500\n",
       "2950709   322896      157507       1                  0.5              0.500\n",
       "\n",
       "[2950710 rows x 5 columns]"
      ]
     },
     "execution_count": 156,
     "metadata": {},
     "output_type": "execute_result"
    }
   ],
   "source": [
    "df_user_rating"
   ]
  },
  {
   "cell_type": "code",
   "execution_count": null,
   "id": "2f4535b8",
   "metadata": {},
   "outputs": [],
   "source": []
  },
  {
   "cell_type": "markdown",
   "id": "a3b10695",
   "metadata": {},
   "source": [
    "## Comparaison des ratings"
   ]
  },
  {
   "cell_type": "code",
   "execution_count": 186,
   "id": "3b0c37a0",
   "metadata": {},
   "outputs": [
    {
     "data": {
      "text/plain": [
       "0.500000    1234492\n",
       "0.333333     655726\n",
       "0.250000     365249\n",
       "0.200000     214508\n",
       "0.166667     132162\n",
       "             ...   \n",
       "0.286806          1\n",
       "0.096429          1\n",
       "0.608453          1\n",
       "0.599206          1\n",
       "1.852381          1\n",
       "Name: clicks_pond_session, Length: 1187, dtype: int64"
      ]
     },
     "execution_count": 186,
     "metadata": {},
     "output_type": "execute_result"
    }
   ],
   "source": [
    "df_user_rating.clicks_pond_session.value_counts()"
   ]
  },
  {
   "cell_type": "code",
   "execution_count": 183,
   "id": "cd247261",
   "metadata": {},
   "outputs": [
    {
     "data": {
      "text/plain": [
       "0.500000    203530\n",
       "0.250000    153133\n",
       "0.166667    121537\n",
       "0.125000    101403\n",
       "0.142857     93109\n",
       "             ...  \n",
       "0.018657         1\n",
       "0.015228         1\n",
       "0.010274         1\n",
       "0.061728         1\n",
       "0.384615         1\n",
       "Name: clicks_pond_total, Length: 777, dtype: int64"
      ]
     },
     "execution_count": 183,
     "metadata": {},
     "output_type": "execute_result"
    }
   ],
   "source": [
    "df_user_rating.clicks_pond_total.value_counts()"
   ]
  },
  {
   "cell_type": "code",
   "execution_count": 184,
   "id": "fd91b828",
   "metadata": {},
   "outputs": [
    {
     "data": {
      "text/plain": [
       "1     2916835\n",
       "2       31459\n",
       "3        1869\n",
       "4         343\n",
       "5          95\n",
       "6          42\n",
       "7          22\n",
       "8          14\n",
       "9           7\n",
       "10          7\n",
       "13          6\n",
       "12          3\n",
       "33          3\n",
       "16          2\n",
       "17          1\n",
       "30          1\n",
       "31          1\n",
       "Name: clicks, dtype: int64"
      ]
     },
     "execution_count": 184,
     "metadata": {},
     "output_type": "execute_result"
    }
   ],
   "source": [
    "df_user_rating.clicks.value_counts()"
   ]
  },
  {
   "cell_type": "code",
   "execution_count": 204,
   "id": "aaca03c5",
   "metadata": {},
   "outputs": [],
   "source": [
    "\n",
    "def add_rating(ratings, rating_column):\n",
    "    min_scale = df_user_rating[rating_column].min()\n",
    "    max_scale = df_user_rating[rating_column].max()\n",
    "    rating_scale = (min_scale, max_scale)\n",
    "    values = len(df_user_rating[rating_column].value_counts())\n",
    "    rating={}\n",
    "    rating['rating'] = rating_column\n",
    "    rating['rating_scale'] = rating_scale\n",
    "    rating['values'] = values\n",
    "    ratings = ratings.append(rating, ignore_index=True)\n",
    "    return ratings\n",
    "\n",
    "ratings = pd.DataFrame(columns=['rating', 'rating_scale', 'values'])\n",
    "ratings = add_rating(ratings, 'clicks')\n",
    "ratings = add_rating(ratings, 'clicks_pond_session')\n",
    "ratings = add_rating(ratings, 'clicks_pond_total')\n"
   ]
  },
  {
   "cell_type": "code",
   "execution_count": 205,
   "id": "07ec9362",
   "metadata": {},
   "outputs": [
    {
     "data": {
      "text/html": [
       "<div>\n",
       "<style scoped>\n",
       "    .dataframe tbody tr th:only-of-type {\n",
       "        vertical-align: middle;\n",
       "    }\n",
       "\n",
       "    .dataframe tbody tr th {\n",
       "        vertical-align: top;\n",
       "    }\n",
       "\n",
       "    .dataframe thead th {\n",
       "        text-align: right;\n",
       "    }\n",
       "</style>\n",
       "<table border=\"1\" class=\"dataframe\">\n",
       "  <thead>\n",
       "    <tr style=\"text-align: right;\">\n",
       "      <th></th>\n",
       "      <th>rating</th>\n",
       "      <th>rating_scale</th>\n",
       "      <th>values</th>\n",
       "    </tr>\n",
       "  </thead>\n",
       "  <tbody>\n",
       "    <tr>\n",
       "      <th>0</th>\n",
       "      <td>clicks</td>\n",
       "      <td>(1, 33)</td>\n",
       "      <td>17</td>\n",
       "    </tr>\n",
       "    <tr>\n",
       "      <th>1</th>\n",
       "      <td>clicks_pond_session</td>\n",
       "      <td>(0.008064516129032258, 5.5)</td>\n",
       "      <td>1187</td>\n",
       "    </tr>\n",
       "    <tr>\n",
       "      <th>2</th>\n",
       "      <td>clicks_pond_total</td>\n",
       "      <td>(0.0008116883116883117, 0.5)</td>\n",
       "      <td>777</td>\n",
       "    </tr>\n",
       "  </tbody>\n",
       "</table>\n",
       "</div>"
      ],
      "text/plain": [
       "                rating                  rating_scale values\n",
       "0               clicks                       (1, 33)     17\n",
       "1  clicks_pond_session   (0.008064516129032258, 5.5)   1187\n",
       "2    clicks_pond_total  (0.0008116883116883117, 0.5)    777"
      ]
     },
     "execution_count": 205,
     "metadata": {},
     "output_type": "execute_result"
    }
   ],
   "source": [
    "ratings"
   ]
  },
  {
   "cell_type": "code",
   "execution_count": null,
   "id": "c26b1c7d",
   "metadata": {},
   "outputs": [],
   "source": []
  },
  {
   "cell_type": "markdown",
   "id": "3105911b",
   "metadata": {},
   "source": [
    "## modélisation"
   ]
  },
  {
   "cell_type": "code",
   "execution_count": 294,
   "id": "965ead0f",
   "metadata": {},
   "outputs": [],
   "source": [
    "df_user_rating_matrix = df_user_rating[['user_id', 'article_id','clicks_pond_session']]"
   ]
  },
  {
   "cell_type": "code",
   "execution_count": 295,
   "id": "e8f79e33",
   "metadata": {},
   "outputs": [
    {
     "data": {
      "text/plain": [
       "(0.008064516129032258, 5.5)"
      ]
     },
     "execution_count": 295,
     "metadata": {},
     "output_type": "execute_result"
    }
   ],
   "source": [
    "min_scale = df_user_rating_matrix['clicks_pond_session'].min()\n",
    "max_scale = df_user_rating_matrix['clicks_pond_session'].max()\n",
    "rating_scale = (min_scale, max_scale)\n",
    "rating_scale"
   ]
  },
  {
   "cell_type": "code",
   "execution_count": 296,
   "id": "5930a784",
   "metadata": {},
   "outputs": [],
   "source": []
  },
  {
   "cell_type": "code",
   "execution_count": 297,
   "id": "dac512a5",
   "metadata": {},
   "outputs": [],
   "source": [
    "reader = Reader(rating_scale=rating_scale)\n",
    "data = Dataset.load_from_df(df_user_rating_matrix, reader)\n",
    "trainset, testset = train_test_split(data, test_size=0.25)\n",
    "algo = SVD()\n"
   ]
  },
  {
   "cell_type": "code",
   "execution_count": 298,
   "id": "094ffd53",
   "metadata": {},
   "outputs": [
    {
     "name": "stdout",
     "output_type": "stream",
     "text": [
      "Wall time: 2min 8s\n"
     ]
    },
    {
     "data": {
      "text/plain": [
       "<surprise.prediction_algorithms.matrix_factorization.SVD at 0x1d06d4c6880>"
      ]
     },
     "execution_count": 298,
     "metadata": {},
     "output_type": "execute_result"
    }
   ],
   "source": [
    "%%time\n",
    "algo.fit(trainset)\n"
   ]
  },
  {
   "cell_type": "code",
   "execution_count": 299,
   "id": "efdd454f",
   "metadata": {},
   "outputs": [
    {
     "name": "stdout",
     "output_type": "stream",
     "text": [
      "Wall time: 5.45 s\n"
     ]
    }
   ],
   "source": [
    "%%time\n",
    "predictions = algo.test(testset)\n"
   ]
  },
  {
   "cell_type": "code",
   "execution_count": 303,
   "id": "a3a12e9a",
   "metadata": {},
   "outputs": [
    {
     "name": "stdout",
     "output_type": "stream",
     "text": [
      "RMSE: 0.1728\n"
     ]
    },
    {
     "data": {
      "text/plain": [
       "0.1727748479478818"
      ]
     },
     "execution_count": 303,
     "metadata": {},
     "output_type": "execute_result"
    }
   ],
   "source": [
    "accuracy.rmse(predictions)\n"
   ]
  },
  {
   "cell_type": "code",
   "execution_count": 304,
   "id": "e15ce883",
   "metadata": {},
   "outputs": [
    {
     "name": "stdout",
     "output_type": "stream",
     "text": [
      "MAE:  0.1454\n"
     ]
    },
    {
     "data": {
      "text/plain": [
       "0.1454351490994095"
      ]
     },
     "execution_count": 304,
     "metadata": {},
     "output_type": "execute_result"
    }
   ],
   "source": [
    "accuracy.mae(predictions)"
   ]
  },
  {
   "cell_type": "code",
   "execution_count": null,
   "id": "cdd440d2",
   "metadata": {},
   "outputs": [],
   "source": []
  },
  {
   "cell_type": "markdown",
   "id": "5471af88",
   "metadata": {},
   "source": [
    "## recommendations"
   ]
  },
  {
   "cell_type": "code",
   "execution_count": 309,
   "id": "4074dc54",
   "metadata": {},
   "outputs": [],
   "source": [
    "list_articles = df_user_rating['article_id'].unique()"
   ]
  },
  {
   "cell_type": "code",
   "execution_count": 352,
   "id": "f9d07b47",
   "metadata": {},
   "outputs": [],
   "source": [
    "\n",
    "def user_based_recommend(user_id, top_n = 5):\n",
    "    user_articles_preds=[]\n",
    "    for article_id in list_articles:\n",
    "        user_articles_preds.append((algo.predict(user_id,article_id).est, article_id))\n",
    "    user_articles_preds.sort(reverse=True)\n",
    "    recommend = [item[1] for item in user_articles_preds[:top_n]]\n",
    "    return recommend\n"
   ]
  },
  {
   "cell_type": "code",
   "execution_count": 354,
   "id": "d65c433f",
   "metadata": {},
   "outputs": [
    {
     "name": "stdout",
     "output_type": "stream",
     "text": [
      "Wall time: 410 ms\n"
     ]
    },
    {
     "data": {
      "text/plain": [
       "[298771, 290559, 62781, 50142, 39015]"
      ]
     },
     "execution_count": 354,
     "metadata": {},
     "output_type": "execute_result"
    }
   ],
   "source": [
    "%%time\n",
    "user_based_recommend(0)"
   ]
  },
  {
   "cell_type": "code",
   "execution_count": 355,
   "id": "bee73342",
   "metadata": {},
   "outputs": [
    {
     "name": "stdout",
     "output_type": "stream",
     "text": [
      "Wall time: 405 ms\n"
     ]
    },
    {
     "data": {
      "text/plain": [
       "[230010, 154237, 138754, 135856, 67191]"
      ]
     },
     "execution_count": 355,
     "metadata": {},
     "output_type": "execute_result"
    }
   ],
   "source": [
    "%%time\n",
    "user_based_recommend(1)"
   ]
  },
  {
   "cell_type": "code",
   "execution_count": null,
   "id": "0bbd22e6",
   "metadata": {},
   "outputs": [],
   "source": []
  },
  {
   "cell_type": "code",
   "execution_count": null,
   "id": "010a2096",
   "metadata": {},
   "outputs": [],
   "source": []
  },
  {
   "cell_type": "code",
   "execution_count": null,
   "id": "5aad54e2",
   "metadata": {},
   "outputs": [],
   "source": []
  }
 ],
 "metadata": {
  "kernelspec": {
   "display_name": "Python 3 (ipykernel)",
   "language": "python",
   "name": "python3"
  },
  "language_info": {
   "codemirror_mode": {
    "name": "ipython",
    "version": 3
   },
   "file_extension": ".py",
   "mimetype": "text/x-python",
   "name": "python",
   "nbconvert_exporter": "python",
   "pygments_lexer": "ipython3",
   "version": "3.9.7"
  }
 },
 "nbformat": 4,
 "nbformat_minor": 5
}
